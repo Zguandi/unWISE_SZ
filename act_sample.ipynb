{
 "cells": [
  {
   "cell_type": "markdown",
   "metadata": {},
   "source": [
    "## Test ground for all data path handles"
   ]
  },
  {
   "cell_type": "code",
   "execution_count": 1,
   "metadata": {},
   "outputs": [],
   "source": [
    "DAT = '/mnt/d/data_large/unwise_sz/'\n",
    "\n",
    "import os\n",
    "import numpy as np\n",
    "import matplotlib.pyplot as plt"
   ]
  },
  {
   "cell_type": "code",
   "execution_count": 2,
   "metadata": {},
   "outputs": [],
   "source": [
    "filename_list = os.listdir(DAT+'ACT/deprojections/cib_cibdbeta/') "
   ]
  },
  {
   "cell_type": "code",
   "execution_count": 3,
   "metadata": {},
   "outputs": [
    {
     "name": "stdout",
     "output_type": "stream",
     "text": [
      "Number of files: 18\n",
      "0 nu= 1.0 T= 10.7\n",
      "1 nu= 1.0 T= 24.0\n",
      "2 nu= 1.15 T= 24.0\n",
      "3 nu= 1.2 T= 10.7\n",
      "4 nu= 1.2 T= 24.0\n",
      "5 nu= 1.3 T= 24.0\n",
      "6 nu= 1.35 T= 24.0\n",
      "7 nu= 1.45 T= 24.0\n",
      "8 nu= 1.4 T= 10.7\n",
      "9 nu= 1.4 T= 24.0\n",
      "10 nu= 1.6 T= 10.7\n",
      "11 nu= 1.6 T= 24.0\n",
      "12 nu= 1.7 T= 10.7\n",
      "13 nu= 1.7 T= 24.0\n",
      "14 nu= 1.8 T= 10.7\n",
      "15 nu= 1.8 T= 24.0\n",
      "16 nu= 2.0 T= 10.7\n",
      "17 nu= 2.0 T= 24.0\n"
     ]
    }
   ],
   "source": [
    "print('Number of files:', len(filename_list))\n",
    "\n",
    "for i, filename in enumerate(filename_list):\n",
    "    nameparts = filename.split('_')\n",
    "    print(i,'nu=',float(nameparts[-2]),'T=',float(nameparts[-1][:-5]))"
   ]
  },
  {
   "cell_type": "code",
   "execution_count": 4,
   "metadata": {},
   "outputs": [
    {
     "data": {
      "text/plain": [
       "<matplotlib.collections.PathCollection at 0x7fdf9413f350>"
      ]
     },
     "execution_count": 4,
     "metadata": {},
     "output_type": "execute_result"
    },
    {
     "data": {
      "image/png": "[encoded data removed]",
      "text/plain": [
       "<Figure size 640x480 with 1 Axes>"
      ]
     },
     "metadata": {},
     "output_type": "display_data"
    }
   ],
   "source": [
    "nu  = [float(name.split('_')[-2]) for name in filename_list]\n",
    "T   = [float(name.split('_')[-1][:-5]) for name in filename_list]\n",
    "\n",
    "plt.scatter(nu, T)"
   ]
  },
  {
   "cell_type": "code",
   "execution_count": 5,
   "metadata": {},
   "outputs": [
    {
     "name": "stdout",
     "output_type": "stream",
     "text": [
      "ilc_actplanck_ymap_deproj_cib_cibdBeta_1.0_10.7.fits\n"
     ]
    }
   ],
   "source": [
    "print(filename_list[0])"
   ]
  },
  {
   "cell_type": "code",
   "execution_count": 24,
   "metadata": {},
   "outputs": [
    {
     "name": "stdout",
     "output_type": "stream",
     "text": [
      "1.0 10.7\n"
     ]
    }
   ],
   "source": [
    "import assets.deprojection_index as dedex\n",
    "\n",
    "codex = dedex.get_ymap_index_act()"
   ]
  },
  {
   "cell_type": "code",
   "execution_count": 26,
   "metadata": {},
   "outputs": [
    {
     "name": "stdout",
     "output_type": "stream",
     "text": [
      "/mnt/d/data_large/unwise_sz/ACT/deprojections/cib/ilc_actplanck_ymap_deproj_cib_1.0_10.7.fits 1.0 10.7\n",
      "/mnt/d/data_large/unwise_sz/ACT/deprojections/cib/ilc_actplanck_ymap_deproj_cib_1.0_24.0.fits 1.0 24.0\n",
      "/mnt/d/data_large/unwise_sz/ACT/deprojections/cib/ilc_actplanck_ymap_deproj_cib_1.2_10.7.fits 1.2 10.7\n",
      "/mnt/d/data_large/unwise_sz/ACT/deprojections/cib/ilc_actplanck_ymap_deproj_cib_1.2_24.0.fits 1.2 24.0\n",
      "/mnt/d/data_large/unwise_sz/ACT/deprojections/cib/ilc_actplanck_ymap_deproj_cib_1.4_10.7.fits 1.4 10.7\n",
      "/mnt/d/data_large/unwise_sz/ACT/deprojections/cib/ilc_actplanck_ymap_deproj_cib_1.4_24.0.fits 1.4 24.0\n",
      "/mnt/d/data_large/unwise_sz/ACT/deprojections/cib/ilc_actplanck_ymap_deproj_cib_1.6_10.7.fits 1.6 10.7\n",
      "/mnt/d/data_large/unwise_sz/ACT/deprojections/cib/ilc_actplanck_ymap_deproj_cib_1.6_24.0.fits 1.6 24.0\n",
      "/mnt/d/data_large/unwise_sz/ACT/deprojections/cib/ilc_actplanck_ymap_deproj_cib_1.7_10.7.fits 1.7 10.7\n",
      "/mnt/d/data_large/unwise_sz/ACT/deprojections/cib/ilc_actplanck_ymap_deproj_cib_1.7_24.0.fits 1.7 24.0\n",
      "/mnt/d/data_large/unwise_sz/ACT/deprojections/cib/ilc_actplanck_ymap_deproj_cib_1.8_10.7.fits 1.8 10.7\n",
      "/mnt/d/data_large/unwise_sz/ACT/deprojections/cib/ilc_actplanck_ymap_deproj_cib_1.8_24.0.fits 1.8 24.0\n",
      "/mnt/d/data_large/unwise_sz/ACT/deprojections/cib/ilc_actplanck_ymap_deproj_cib_2.0_10.7.fits 2.0 10.7\n",
      "/mnt/d/data_large/unwise_sz/ACT/deprojections/cib/ilc_actplanck_ymap_deproj_cib_2.0_24.0.fits 2.0 24.0\n",
      "/mnt/d/data_large/unwise_sz/ACT/deprojections/cib_cibdbeta/ilc_actplanck_ymap_deproj_cib_cibdBeta_1.0_10.7.fits 1.0 10.7\n",
      "/mnt/d/data_large/unwise_sz/ACT/deprojections/cib_cibdbeta/ilc_actplanck_ymap_deproj_cib_cibdBeta_1.0_24.0.fits 1.0 24.0\n",
      "/mnt/d/data_large/unwise_sz/ACT/deprojections/cib_cibdbeta/ilc_actplanck_ymap_deproj_cib_cibdBeta_1.15_24.00.fits 1.15 24.0\n",
      "/mnt/d/data_large/unwise_sz/ACT/deprojections/cib_cibdbeta/ilc_actplanck_ymap_deproj_cib_cibdBeta_1.2_10.7.fits 1.2 10.7\n",
      "/mnt/d/data_large/unwise_sz/ACT/deprojections/cib_cibdbeta/ilc_actplanck_ymap_deproj_cib_cibdBeta_1.2_24.0.fits 1.2 24.0\n",
      "/mnt/d/data_large/unwise_sz/ACT/deprojections/cib_cibdbeta/ilc_actplanck_ymap_deproj_cib_cibdBeta_1.30_24.00.fits 1.3 24.0\n",
      "/mnt/d/data_large/unwise_sz/ACT/deprojections/cib_cibdbeta/ilc_actplanck_ymap_deproj_cib_cibdBeta_1.35_24.00.fits 1.35 24.0\n",
      "/mnt/d/data_large/unwise_sz/ACT/deprojections/cib_cibdbeta/ilc_actplanck_ymap_deproj_cib_cibdBeta_1.45_24.00.fits 1.45 24.0\n",
      "/mnt/d/data_large/unwise_sz/ACT/deprojections/cib_cibdbeta/ilc_actplanck_ymap_deproj_cib_cibdBeta_1.4_10.7.fits 1.4 10.7\n",
      "/mnt/d/data_large/unwise_sz/ACT/deprojections/cib_cibdbeta/ilc_actplanck_ymap_deproj_cib_cibdBeta_1.4_24.0.fits 1.4 24.0\n",
      "/mnt/d/data_large/unwise_sz/ACT/deprojections/cib_cibdbeta/ilc_actplanck_ymap_deproj_cib_cibdBeta_1.6_10.7.fits 1.6 10.7\n",
      "/mnt/d/data_large/unwise_sz/ACT/deprojections/cib_cibdbeta/ilc_actplanck_ymap_deproj_cib_cibdBeta_1.6_24.0.fits 1.6 24.0\n",
      "/mnt/d/data_large/unwise_sz/ACT/deprojections/cib_cibdbeta/ilc_actplanck_ymap_deproj_cib_cibdBeta_1.7_10.7.fits 1.7 10.7\n",
      "/mnt/d/data_large/unwise_sz/ACT/deprojections/cib_cibdbeta/ilc_actplanck_ymap_deproj_cib_cibdBeta_1.7_24.0.fits 1.7 24.0\n",
      "/mnt/d/data_large/unwise_sz/ACT/deprojections/cib_cibdbeta/ilc_actplanck_ymap_deproj_cib_cibdBeta_1.8_10.7.fits 1.8 10.7\n",
      "/mnt/d/data_large/unwise_sz/ACT/deprojections/cib_cibdbeta/ilc_actplanck_ymap_deproj_cib_cibdBeta_1.8_24.0.fits 1.8 24.0\n",
      "/mnt/d/data_large/unwise_sz/ACT/deprojections/cib_cibdbeta/ilc_actplanck_ymap_deproj_cib_cibdBeta_2.0_10.7.fits 2.0 10.7\n",
      "/mnt/d/data_large/unwise_sz/ACT/deprojections/cib_cibdbeta/ilc_actplanck_ymap_deproj_cib_cibdBeta_2.0_24.0.fits 2.0 24.0\n"
     ]
    }
   ],
   "source": [
    "for item in codex:\n",
    "    path = item.path\n",
    "    nu = item.nu\n",
    "    T = item.T\n",
    "    print(path, nu, T)"
   ]
  },
  {
   "cell_type": "code",
   "execution_count": null,
   "metadata": {},
   "outputs": [],
   "source": []
  }
 ],
 "metadata": {
  "kernelspec": {
   "display_name": "namaster",
   "language": "python",
   "name": "python3"
  },
  "language_info": {
   "codemirror_mode": {
    "name": "ipython",
    "version": 3
   },
   "file_extension": ".py",
   "mimetype": "text/x-python",
   "name": "python",
   "nbconvert_exporter": "python",
   "pygments_lexer": "ipython3",
   "version": "3.11.5"
  }
 },
 "nbformat": 4,
 "nbformat_minor": 2
}
